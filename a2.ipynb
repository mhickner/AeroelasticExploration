{
 "metadata": {
  "language_info": {
   "codemirror_mode": {
    "name": "ipython",
    "version": 3
   },
   "file_extension": ".py",
   "mimetype": "text/x-python",
   "name": "python",
   "nbconvert_exporter": "python",
   "pygments_lexer": "ipython3",
   "version": "3.7.7"
  },
  "orig_nbformat": 2,
  "kernelspec": {
   "name": "python377jvsc74a57bd0b62ac214b08e1f3720aea1da4dd3dbf5f602f1e95d90d84081a5315285cb3e79",
   "display_name": "Python 3.7.7 64-bit ('base': conda)"
  }
 },
 "nbformat": 4,
 "nbformat_minor": 2,
 "cells": [
  {
   "source": [
    "# Exploring measures of plate deformation\n"
   ],
   "cell_type": "markdown",
   "metadata": {}
  },
  {
   "source": [
    "## Dataset\n",
    "The data used in this exploration is from fluid-structure interaction simulations of a flexible plate in a moving fluid. The simulation is designed as a simplified version of a flapping insect wing. The raw dataset contains time-series data of the location of each element of the plate, and the time series of the coefficient of lift, which is affected by the shape of the plate. Also available is an algorithm to transform the timeseries data into a linear model. Some of the coefficients of the linear model should correspond to certain physical phenomenon, though verifying that is something that can be explored. \n",
    "\n",
    "The timeseries and raw data are available for several different angles of attack (the angle of the plate relative to the fluid flow), and for a range of flexibility, hopefully providing an interesting parameter landscape to explore.\n",
    "\n",
    "There is also some miscellaneous data available, such as the theoretical dominant mode shapes of the beam and their natural frequencies. Transformations of the data, such as eigenmodes, may be able to confirm the contribution of these theoretical mode shapes and frequencies to the actual deformation. "
   ],
   "cell_type": "markdown",
   "metadata": {}
  },
  {
   "source": [
    "## Preliminary Questions\n",
    "\n",
    "1. *What is the most compact way (mathematically and visually) I can describe these deformations in a static visualization without throwing away too much information?* The plate can bend, and this deformation shows up in the data set as the location of each of 66 plate elements. Some options to explore for describing plate deformation are leading edge curvature and trailing edge deflection. \n",
    "2. *What sort of deformations patterns are there? Are the patterns different for stiff vs. flexible plates?* \n",
    "3. *How strongly correlated (in time) are coefficient of lift and plate deformation?* \n"
   ],
   "cell_type": "markdown",
   "metadata": {}
  },
  {
   "source": [
    "\n",
    "The first step was to get the data into a manageble form for visualizing. The data was outputted from a fluid structure interaction simulation, and I was provided with a post-processing script that turned the each timeseries of interest into Matlab arrays (vectors and matrices). This data set contains roughly 150 million data points, so my first question was whether I could either downsample the data to a lower time resolution, or chop off the beginning or end of each timeseries. \n",
    "\n",
    "This dataset has identical measurement for 9 cases: 3 different rigidities, and 3 different initial pitch angles (for reference, planes pitch up when taking off).\n",
    "\n",
    "Due to the physics involved in the system, I guessed that the case with the most deformation in the plate is the most flexible and has the highest initial pitch angle. I used this case to determine how much of the timeseries to use. \n",
    "\n",
    "<img src=downsample2.jpg>"
   ],
   "cell_type": "markdown",
   "metadata": {}
  },
  {
   "source": [
    "\n",
    "The above plot used for data preparation only shows us how a single element of the plate moves in time. The \"plate\" is really a line, because the measurements came from a 2D simulation, and this plate (line) has 66 connected elements.\n",
    "\n",
    "A waterfall plot (sometimes also called a ribbon plot) is a 3D plot (projected onto a 2D screen or paper) which can show us the vertical position of each element over time. \n",
    "\n",
    "<img src=waterfall_blue2.jpg>"
   ],
   "cell_type": "markdown",
   "metadata": {}
  },
  {
   "source": [
    "Since the zoomed in vertical axes give a misleading impression of deformation, I re-did the plots with the horizontal and vertical axes of the plate scaled the same. \n",
    "\n",
    "A question someone might have at this point is \"what are the length units\"? The answer is that most quantities in this dataset are non-dimensionalized, which makes it even more important to compare the horizontal and vertical axes with proper scaling, since magnitude is hard to deduce from the raw displacement numbers.\n",
    "\n",
    "<img src=waterfall_blue_scaled2.jpg>"
   ],
   "cell_type": "markdown",
   "metadata": {}
  },
  {
   "source": [
    "The unexpectedly small deformations led me to look more carefully at how much the plate is pitching- in the data plotted above, the plate pitch gets barely nudged, so perhaps I shouldn't have expected the plate to deform much. I have another dataset, where the plate is pitched more. For this set, the waterfall plots look more like I expected, allowing me to move on to looking at deformation patterns and explore which measure of deformation is most informative.\n",
    "\n",
    "<img src=waterfall_php_blue2.jpg>\n"
   ],
   "cell_type": "markdown",
   "metadata": {}
  },
  {
   "source": [
    "Now that I have patterns that I can see by eye, I can start to think about how to describe the deformation in a compact way, ideally with a single number for each time point. The first candidate is trailing edge displacement, since I could see from the waterfall plots that the trailing edge is the location with the larges displacement."
   ],
   "cell_type": "markdown",
   "metadata": {}
  },
  {
   "source": [
    "\n",
    "<img src=php_leading_trailing2.jpg>"
   ],
   "cell_type": "markdown",
   "metadata": {}
  },
  {
   "source": [
    "The waterfall plots gave a hint that the deformation pattern depends mostly on plate rigidity (KB) rather than on initial pitch angle (alpha0). The line plots of just the leading and trailing edges reinforces this impression. The shapes of the red lines is nearly identical across a given rigidity, just shifted up due to the higher angle. "
   ],
   "cell_type": "markdown",
   "metadata": {}
  },
  {
   "source": [
    "\n",
    "Another candidate for a compact measure of deformation is plate curvature at a single point. Curvature is of interest because it is closely related to the strain, which is something that can be measured in a physical experiment like a wind tunnel, and for some wing materials, might tell us whether the wing will crack or break. \n",
    "\n",
    "The curvature in the below plot is from just behind the leading edge. Curvature can be measured at each element (point along the length of the plate), but since the leading edge is fixed, I expect the highest curvature just behind the leading edge, due to the stress concentration near a pinned edge. "
   ],
   "cell_type": "markdown",
   "metadata": {}
  },
  {
   "cell_type": "code",
   "execution_count": null,
   "metadata": {},
   "outputs": [],
   "source": []
  },
  {
   "source": [
    "<img src=kappaVSleading2.jpg>\n",
    "\n",
    "The first two things I saw from this comparison is that: 1) the overall pattern in trailing edge displacement is still the same for both measures, and 2) there is now a faster vibration mode visible for some of the cases. This second point is very important- it tells me that we are throwing away some information when we only look at trailing edge displacement. \n",
    "\n",
    "For now I will say that leading edge curvature is a good measure of deformation, but a possibility I am ignoring for now is that by using only one number (curvature) I am still missing some crucial information, like additional vibration modes. An option to explore in the future is to look at curvature at different locations along the plate to see if I can pick up any new vibration modes, or information about how deformations propagate from one edge of the plate to the other. \n",
    "\n",
    "Another direction I could go with the curvature is to notice that I can only see one vibration mode for the stiffest case. Are the vibrations from the second mode so small that I need to zoom in to see the? Would looking at curvature at a different point on the plate show that second mode? If I don't find the second mode with, would collecting more data with a faster or slower pitching maneuver reveal a second mode?"
   ],
   "cell_type": "markdown",
   "metadata": {}
  },
  {
   "source": [
    "There are statistical transformations we can do with the coefficient of lift and curvature, like cross-correlation, or frequency content, but first it makes sense to just look at them together and see if they track each other. \n",
    "<img src=CLvsKappa2.jpg>\n"
   ],
   "cell_type": "markdown",
   "metadata": {}
  },
  {
   "source": [
    "By eye, some observations are: 1) the frequency content of the lift and curvature signals look similar, 2) the overall rise and fall of lift looks correlated with, but not identical to that of curvature, 3) the lift signal has some sharp peaks that aren't seen in curvature.\n",
    "\n",
    "My first suspicion for why the lift data has spikes that aren't present in the curvature data is that it has something to do with the motion of the plate. Both deformation and lift can be affected not only by the pitch angle, but also the pitch velocity and pitch acceleration, due to inertial effects (the tendency for objects or fluids to keep going in whatever direction they are already going). Lift and plate deformation may also be affected by \"added mass\", which is when a moving object in a fluid pulls some fluid along with it, effectively changing the \"airfoil shape\" of the object.\n"
   ],
   "cell_type": "markdown",
   "metadata": {}
  },
  {
   "source": [
    "To do a quick check of whether the spikes in coefficient of lift are associated with the pitch angle, velocity, or acceleration, we can take one case and look at them all together. \n",
    "<img src=php_maneuver2.jpg>\n",
    "\n",
    "It appears that the spikes in coefficient of lift are associated with the pitch acceleration. The slower pattern in the signal, seen in both coefficient of lift and curvature may be from the pitch angle or the pitch velocity, or some combination. It is difficult to tell by eye- I guess that means I'll have plenty more to explore with this data!"
   ],
   "cell_type": "markdown",
   "metadata": {}
  },
  {
   "cell_type": "code",
   "execution_count": null,
   "metadata": {},
   "outputs": [],
   "source": []
  }
 ]
}